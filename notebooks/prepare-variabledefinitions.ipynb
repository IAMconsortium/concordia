{
 "cells": [
  {
   "cell_type": "code",
   "execution_count": 1,
   "metadata": {},
   "outputs": [],
   "source": [
    "from pathlib import Path\n",
    "\n",
    "import pandas as pd\n",
    "from pandas_indexing import extractlevel, isin"
   ]
  },
  {
   "cell_type": "code",
   "execution_count": 2,
   "metadata": {},
   "outputs": [],
   "source": [
    "base_path = Path(\n",
    "    \"/Users/coroa/Library/CloudStorage/OneDrive-SharedLibraries-IIASA/RESCUE - WP 1/data\"\n",
    ")\n",
    "data_path = Path(\"../data\")"
   ]
  },
  {
   "attachments": {},
   "cell_type": "markdown",
   "metadata": {},
   "source": [
    "## Variable definition files\n",
    "\n",
    "The variable definition file is a CSV or yaml file that needs to contain the `variable`-name, its `sector`, `gas` components and whether it is expected `global` (or regional instead).\n",
    "\n",
    "Here we generate one based on the cmip6 historical data we have that could be used as a basis but we would want to finetune this by hand."
   ]
  },
  {
   "attachments": {},
   "cell_type": "markdown",
   "metadata": {},
   "source": [
    "### Create new variable definition files from historical data"
   ]
  },
  {
   "cell_type": "code",
   "execution_count": 3,
   "metadata": {},
   "outputs": [],
   "source": [
    "variables = (\n",
    "    pd.read_csv(\n",
    "        base_path / \"historical/cmip6/history.csv\",\n",
    "        usecols=[3, 4],\n",
    "    )\n",
    "    .rename(columns=str.lower)\n",
    "    .drop_duplicates()\n",
    "    .set_index(\"variable\")\n",
    ")"
   ]
  },
  {
   "cell_type": "code",
   "execution_count": 4,
   "metadata": {},
   "outputs": [],
   "source": [
    "variabledefs = extractlevel(variables, \"CEDS+|9+ Sectors|Emissions|{gas}|{sector}|Unharmonized\")"
   ]
  },
  {
   "attachments": {},
   "cell_type": "markdown",
   "metadata": {},
   "source": [
    "Mark variables as global or regional:\n",
    "\n",
    "Global variables are:\n",
    "- Variants of fluorinated gases,\n",
    "- N2O, as well as\n",
    "- Aggriculture and LUC, and\n",
    "- Aircraft and International Shipping"
   ]
  },
  {
   "cell_type": "code",
   "execution_count": 5,
   "metadata": {},
   "outputs": [],
   "source": [
    "variabledefs[\"global\"] = False\n",
    "variabledefs.loc[\n",
    "    isin(gas=[\"F-Gases\", \"N2O\", \"C2F6\", \"HFC\", \"SF6\", \"CF4\"]), \"global\"\n",
    "] = True\n",
    "variabledefs.loc[\n",
    "    isin(\n",
    "        sector=[\"Aggregate - Agriculture and LUC\", \"Aircraft\", \"International Shipping\"]\n",
    "    ),\n",
    "    \"global\",\n",
    "] = True"
   ]
  },
  {
   "cell_type": "code",
   "execution_count": 6,
   "metadata": {},
   "outputs": [],
   "source": [
    "variabledefs.to_csv(data_path / \"variabledefs.csv\")"
   ]
  },
  {
   "cell_type": "code",
   "execution_count": null,
   "metadata": {},
   "outputs": [],
   "source": []
  }
 ],
 "metadata": {
  "kernelspec": {
   "display_name": "concordia",
   "language": "python",
   "name": "python3"
  },
  "language_info": {
   "codemirror_mode": {
    "name": "ipython",
    "version": 3
   },
   "file_extension": ".py",
   "mimetype": "text/x-python",
   "name": "python",
   "nbconvert_exporter": "python",
   "pygments_lexer": "ipython3",
   "version": "3.11.3"
  },
  "orig_nbformat": 4
 },
 "nbformat": 4,
 "nbformat_minor": 2
}
